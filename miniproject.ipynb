{
  "nbformat": 4,
  "nbformat_minor": 0,
  "metadata": {
    "colab": {
      "provenance": [],
      "authorship_tag": "ABX9TyOdAwT233jOLPKVvUDmnbIU",
      "include_colab_link": true
    },
    "kernelspec": {
      "name": "python3",
      "display_name": "Python 3"
    },
    "language_info": {
      "name": "python"
    }
  },
  "cells": [
    {
      "cell_type": "markdown",
      "metadata": {
        "id": "view-in-github",
        "colab_type": "text"
      },
      "source": [
        "<a href=\"https://colab.research.google.com/github/saiavinash77/100-days-of-code/blob/main/miniproject.ipynb\" target=\"_parent\"><img src=\"https://colab.research.google.com/assets/colab-badge.svg\" alt=\"Open In Colab\"/></a>"
      ]
    },
    {
      "cell_type": "code",
      "execution_count": null,
      "metadata": {
        "id": "-64EkK6Uq87T"
      },
      "outputs": [],
      "source": [
        "#this is a very mini project for beginners ,to get a basic understanding of how the things work"
      ]
    },
    {
      "cell_type": "code",
      "source": [
        "import random\n",
        "subjects = [\n",
        "    \"Thalli akka \",\n",
        "    'cherry',\n",
        "    'sai',\n",
        "    'thaswi',\n",
        "    'bawmardi',\n",
        "    'charan'\n",
        "]\n",
        "\n",
        "\n",
        "actions = [\n",
        "    \"launches\",\n",
        "    'cancels',\n",
        "    'dances with',\n",
        "    'eats',\n",
        "    'fights with ',\n",
        "    'loves in',\n",
        "    'celebrates'\n",
        "]\n",
        "\n",
        "places = [\n",
        "    \"at thaswi's house \",\n",
        "    'at our home ',\n",
        "    'in bathroom',\n",
        "    'at school',\n",
        "    'in principal room'\n",
        "]\n",
        "\n",
        "while True:\n",
        "  subjects = random.choice(subjects)\n",
        "  actions = random.choice(actions)\n",
        "  places = random.choice(places)\n",
        "\n",
        "  headline = print(f\"Breaking News :{subjects} {actions} {places} \")\n",
        "\n",
        "  user =  input(\"Do u need one more(Y/N)\").strip().lower()\n",
        "\n",
        "  if user == 'n':\n",
        "    break\n",
        "\n",
        "print(\"Have a Good Day ,visit next day \")"
      ],
      "metadata": {
        "colab": {
          "base_uri": "https://localhost:8080/"
        },
        "id": "DLon8QrEHccc",
        "outputId": "724f40ba-e759-4fcd-e0b8-ac2096cd4059"
      },
      "execution_count": 36,
      "outputs": [
        {
          "output_type": "stream",
          "name": "stdout",
          "text": [
            "Breaking News :Thalli akka  fights with  at our home  \n",
            "Do u need one more(Y/N)y\n",
            "Breaking News :a f t \n",
            "Do u need one more(Y/N)n\n",
            "Have a Good Day ,visit next day \n"
          ]
        }
      ]
    },
    {
      "cell_type": "code",
      "source": [],
      "metadata": {
        "id": "VeqiLD47KQOk"
      },
      "execution_count": null,
      "outputs": []
    }
  ]
}